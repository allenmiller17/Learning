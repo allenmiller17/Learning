{
 "cells": [
  {
   "cell_type": "code",
   "execution_count": 1,
   "metadata": {},
   "outputs": [
    {
     "name": "stderr",
     "output_type": "stream",
     "text": [
      "c:\\Users\\allen\\anaconda3\\envs\\Deep_Learning\\lib\\site-packages\\scipy\\__init__.py:146: UserWarning: A NumPy version >=1.16.5 and <1.23.0 is required for this version of SciPy (detected version 1.23.1\n",
      "  warnings.warn(f\"A NumPy version >={np_minversion} and <{np_maxversion}\"\n"
     ]
    }
   ],
   "source": [
    "import numpy as np\n",
    "from keras.preprocessing import image\n",
    "from keras.applications import resnet\n"
   ]
  },
  {
   "cell_type": "code",
   "execution_count": 12,
   "metadata": {},
   "outputs": [],
   "source": [
    "# Load Keras ResNet50 model\n",
    "model = resnet.ResNet50()\n",
    "\n",
    "# Load the image file, resizing it to 224x224 pixels (Note: ResNet50 has a requirement for image size to be 224x224)\n",
    "#img = image.load_img(\"bay.jpg\", target_size=(224,224)) # Picture of a Bay\n",
    "#img = image.load_img(\"Chatinika.jpg\", target_size=(224,224)) # Picture of the Chatinika River in Alaska\n",
    "img = image.load_img(\"Valdez.jpg\", target_size=(224,224)) # Picture of Valdez Glacier Lake in Alaska"
   ]
  },
  {
   "cell_type": "code",
   "execution_count": 13,
   "metadata": {},
   "outputs": [],
   "source": [
    "# Convert Image to Numpy Array\n",
    "x = image.img_to_array(img)\n",
    "\n",
    "# Add a forth dimension sice Keras expects a list of images\n",
    "x = np.expand_dims(x, axis=0)\n",
    "\n",
    "# Scale the input image to the rang used in the trained network\n",
    "x = resnet.preprocess_input(x)"
   ]
  },
  {
   "cell_type": "code",
   "execution_count": 14,
   "metadata": {},
   "outputs": [
    {
     "name": "stdout",
     "output_type": "stream",
     "text": [
      "This is an image of: [[('n09468604', 'valley', 0.9875613), ('n09193705', 'alp', 0.009604306), ('n03160309', 'dam', 0.0011335977), ('n09246464', 'cliff', 0.00089268043), ('n09332890', 'lakeside', 0.00023052344), ('n09472597', 'volcano', 0.00011628593), ('n09288635', 'geyser', 6.264003e-05), ('n09428293', 'seashore', 5.788114e-05), ('n03873416', 'paddle', 5.764438e-05)]]\n"
     ]
    }
   ],
   "source": [
    "# Run the image through the deep neural network to make a prediction\n",
    "predictions = model.predict(x)\n",
    "\n",
    "# Look uo the names of thr predicted classes\n",
    "predicted_classes = resnet.decode_predictions(predictions, top=9)\n",
    "\n",
    "print(f'This is an image of: {predicted_classes}')"
   ]
  },
  {
   "cell_type": "code",
   "execution_count": null,
   "metadata": {},
   "outputs": [],
   "source": []
  }
 ],
 "metadata": {
  "kernelspec": {
   "display_name": "Python 3.10.4 ('Deep_Learning')",
   "language": "python",
   "name": "python3"
  },
  "language_info": {
   "codemirror_mode": {
    "name": "ipython",
    "version": 3
   },
   "file_extension": ".py",
   "mimetype": "text/x-python",
   "name": "python",
   "nbconvert_exporter": "python",
   "pygments_lexer": "ipython3",
   "version": "3.10.4"
  },
  "orig_nbformat": 4,
  "vscode": {
   "interpreter": {
    "hash": "096db544af28c78b77f99f5b558907d77c58cb7acc42aa3ed5e25e2771f11f9b"
   }
  }
 },
 "nbformat": 4,
 "nbformat_minor": 2
}
