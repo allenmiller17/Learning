{
 "cells": [
  {
   "cell_type": "code",
   "execution_count": 1,
   "metadata": {},
   "outputs": [
    {
     "name": "stderr",
     "output_type": "stream",
     "text": [
      "c:\\Users\\allen\\anaconda3\\envs\\Deep_Learning\\lib\\site-packages\\scipy\\__init__.py:146: UserWarning: A NumPy version >=1.16.5 and <1.23.0 is required for this version of SciPy (detected version 1.23.1\n",
      "  warnings.warn(f\"A NumPy version >={np_minversion} and <{np_maxversion}\"\n"
     ]
    }
   ],
   "source": [
    "import pandas as pd\n",
    "\n",
    "import keras\n",
    "from keras.models import Sequential\n",
    "from keras.layers import *"
   ]
  },
  {
   "cell_type": "code",
   "execution_count": 2,
   "metadata": {},
   "outputs": [],
   "source": [
    "training_data_df = pd.read_csv(\"sales_data_training_scaled.csv\")\n",
    "\n",
    "x = training_data_df.drop('total_earnings', axis=1)\n",
    "y = training_data_df[['total_earnings']].values"
   ]
  },
  {
   "cell_type": "code",
   "execution_count": 6,
   "metadata": {},
   "outputs": [],
   "source": [
    "# Define the model\n",
    "model = Sequential()\n",
    "model.add(Dense(50, input_dim=9, activation='relu', name='layer1'))\n",
    "model.add(Dense(100, activation='relu', name='layer2'))\n",
    "model.add(Dense(50, activation='relu', name='layer3'))\n",
    "model.add(Dense(1, activation='linear', name='output_layer'))\n",
    "model.compile(loss='mean_squared_error', optimizer='adam')\n"
   ]
  },
  {
   "cell_type": "code",
   "execution_count": 7,
   "metadata": {},
   "outputs": [],
   "source": [
    "# Create a TensorBoard Logger\n",
    "logger = keras.callbacks.TensorBoard(\n",
    "    log_dir=\"logs\",\n",
    "    write_graph=True,\n",
    "    histogram_freq=5\n",
    ")"
   ]
  },
  {
   "cell_type": "code",
   "execution_count": 8,
   "metadata": {},
   "outputs": [
    {
     "name": "stdout",
     "output_type": "stream",
     "text": [
      "Epoch 1/50\n",
      "32/32 - 2s - loss: 0.0148 - 2s/epoch - 67ms/step\n",
      "Epoch 2/50\n",
      "32/32 - 0s - loss: 0.0012 - 61ms/epoch - 2ms/step\n",
      "Epoch 3/50\n",
      "32/32 - 0s - loss: 4.6416e-04 - 60ms/epoch - 2ms/step\n",
      "Epoch 4/50\n",
      "32/32 - 0s - loss: 2.8000e-04 - 68ms/epoch - 2ms/step\n",
      "Epoch 5/50\n",
      "32/32 - 0s - loss: 1.6918e-04 - 60ms/epoch - 2ms/step\n",
      "Epoch 6/50\n",
      "32/32 - 0s - loss: 1.1896e-04 - 111ms/epoch - 3ms/step\n",
      "Epoch 7/50\n",
      "32/32 - 0s - loss: 1.5368e-04 - 56ms/epoch - 2ms/step\n",
      "Epoch 8/50\n",
      "32/32 - 0s - loss: 1.0132e-04 - 85ms/epoch - 3ms/step\n",
      "Epoch 9/50\n",
      "32/32 - 0s - loss: 6.7979e-05 - 57ms/epoch - 2ms/step\n",
      "Epoch 10/50\n",
      "32/32 - 0s - loss: 6.1551e-05 - 61ms/epoch - 2ms/step\n",
      "Epoch 11/50\n",
      "32/32 - 0s - loss: 5.1709e-05 - 114ms/epoch - 4ms/step\n",
      "Epoch 12/50\n",
      "32/32 - 0s - loss: 4.6749e-05 - 56ms/epoch - 2ms/step\n",
      "Epoch 13/50\n",
      "32/32 - 0s - loss: 4.1609e-05 - 58ms/epoch - 2ms/step\n",
      "Epoch 14/50\n",
      "32/32 - 0s - loss: 4.0069e-05 - 67ms/epoch - 2ms/step\n",
      "Epoch 15/50\n",
      "32/32 - 0s - loss: 4.1167e-05 - 55ms/epoch - 2ms/step\n",
      "Epoch 16/50\n",
      "32/32 - 0s - loss: 3.7103e-05 - 105ms/epoch - 3ms/step\n",
      "Epoch 17/50\n",
      "32/32 - 0s - loss: 5.9495e-05 - 59ms/epoch - 2ms/step\n",
      "Epoch 18/50\n",
      "32/32 - 0s - loss: 4.0791e-05 - 57ms/epoch - 2ms/step\n",
      "Epoch 19/50\n",
      "32/32 - 0s - loss: 3.4005e-05 - 56ms/epoch - 2ms/step\n",
      "Epoch 20/50\n",
      "32/32 - 0s - loss: 3.5839e-05 - 54ms/epoch - 2ms/step\n",
      "Epoch 21/50\n",
      "32/32 - 0s - loss: 3.7085e-05 - 115ms/epoch - 4ms/step\n",
      "Epoch 22/50\n",
      "32/32 - 0s - loss: 3.0153e-05 - 60ms/epoch - 2ms/step\n",
      "Epoch 23/50\n",
      "32/32 - 0s - loss: 3.6363e-05 - 57ms/epoch - 2ms/step\n",
      "Epoch 24/50\n",
      "32/32 - 0s - loss: 3.9531e-05 - 62ms/epoch - 2ms/step\n",
      "Epoch 25/50\n",
      "32/32 - 0s - loss: 3.0757e-05 - 86ms/epoch - 3ms/step\n",
      "Epoch 26/50\n",
      "32/32 - 0s - loss: 4.1944e-05 - 116ms/epoch - 4ms/step\n",
      "Epoch 27/50\n",
      "32/32 - 0s - loss: 3.6599e-05 - 55ms/epoch - 2ms/step\n",
      "Epoch 28/50\n",
      "32/32 - 0s - loss: 5.5613e-05 - 55ms/epoch - 2ms/step\n",
      "Epoch 29/50\n",
      "32/32 - 0s - loss: 4.4328e-05 - 76ms/epoch - 2ms/step\n",
      "Epoch 30/50\n",
      "32/32 - 0s - loss: 3.4290e-05 - 84ms/epoch - 3ms/step\n",
      "Epoch 31/50\n",
      "32/32 - 0s - loss: 3.6486e-05 - 151ms/epoch - 5ms/step\n",
      "Epoch 32/50\n",
      "32/32 - 0s - loss: 3.5074e-05 - 64ms/epoch - 2ms/step\n",
      "Epoch 33/50\n",
      "32/32 - 0s - loss: 5.4405e-05 - 71ms/epoch - 2ms/step\n",
      "Epoch 34/50\n",
      "32/32 - 0s - loss: 2.8901e-05 - 65ms/epoch - 2ms/step\n",
      "Epoch 35/50\n",
      "32/32 - 0s - loss: 2.4786e-05 - 59ms/epoch - 2ms/step\n",
      "Epoch 36/50\n",
      "32/32 - 0s - loss: 2.0709e-05 - 120ms/epoch - 4ms/step\n",
      "Epoch 37/50\n",
      "32/32 - 0s - loss: 3.3018e-05 - 77ms/epoch - 2ms/step\n",
      "Epoch 38/50\n",
      "32/32 - 0s - loss: 6.1755e-05 - 100ms/epoch - 3ms/step\n",
      "Epoch 39/50\n",
      "32/32 - 0s - loss: 7.9844e-05 - 63ms/epoch - 2ms/step\n",
      "Epoch 40/50\n",
      "32/32 - 0s - loss: 3.4875e-05 - 85ms/epoch - 3ms/step\n",
      "Epoch 41/50\n",
      "32/32 - 0s - loss: 5.0905e-05 - 126ms/epoch - 4ms/step\n",
      "Epoch 42/50\n",
      "32/32 - 0s - loss: 5.4166e-05 - 82ms/epoch - 3ms/step\n",
      "Epoch 43/50\n",
      "32/32 - 0s - loss: 2.4884e-05 - 63ms/epoch - 2ms/step\n",
      "Epoch 44/50\n",
      "32/32 - 0s - loss: 2.1148e-05 - 70ms/epoch - 2ms/step\n",
      "Epoch 45/50\n",
      "32/32 - 0s - loss: 2.8155e-05 - 86ms/epoch - 3ms/step\n",
      "Epoch 46/50\n",
      "32/32 - 0s - loss: 3.1392e-05 - 125ms/epoch - 4ms/step\n",
      "Epoch 47/50\n",
      "32/32 - 0s - loss: 4.2428e-05 - 59ms/epoch - 2ms/step\n",
      "Epoch 48/50\n",
      "32/32 - 0s - loss: 7.2236e-05 - 57ms/epoch - 2ms/step\n",
      "Epoch 49/50\n",
      "32/32 - 0s - loss: 1.0266e-04 - 55ms/epoch - 2ms/step\n",
      "Epoch 50/50\n",
      "32/32 - 0s - loss: 6.3462e-05 - 54ms/epoch - 2ms/step\n"
     ]
    },
    {
     "data": {
      "text/plain": [
       "<keras.callbacks.History at 0x1fcf9a175e0>"
      ]
     },
     "execution_count": 8,
     "metadata": {},
     "output_type": "execute_result"
    }
   ],
   "source": [
    "# Train the model\n",
    "from gc import callbacks\n",
    "\n",
    "\n",
    "model.fit(\n",
    "    x,\n",
    "    y,\n",
    "    epochs=50,\n",
    "    shuffle=True,\n",
    "    verbose=2,\n",
    "    callbacks=[logger]\n",
    ")"
   ]
  },
  {
   "cell_type": "code",
   "execution_count": 7,
   "metadata": {},
   "outputs": [],
   "source": [
    "# Load the Test Data\n",
    "test_data_df = pd.read_csv('sales_data_test_scaled.csv')\n",
    "\n",
    "x_test = test_data_df.drop('total_earnings', axis=1)\n",
    "y_test = test_data_df[['total_earnings']].values"
   ]
  },
  {
   "cell_type": "code",
   "execution_count": 8,
   "metadata": {},
   "outputs": [
    {
     "name": "stdout",
     "output_type": "stream",
     "text": [
      "The MSE for the test data is: 0.00010509643470868468\n"
     ]
    }
   ],
   "source": [
    "# Evaluate the model\n",
    "test_error_rate = model.evaluate(x_test, y_test, verbose=0)\n",
    "print(f'The MSE for the test data is: {test_error_rate}')"
   ]
  },
  {
   "cell_type": "code",
   "execution_count": 9,
   "metadata": {},
   "outputs": [],
   "source": [
    "# Make Predictions\n",
    "x_pred = pd.read_csv('proposed_new_product.csv').values\n",
    "\n",
    "prediction = model.predict(x_pred)\n",
    "\n",
    "# Keras returs predictions as a 2-D Array -- Only want the first element for our preditcion\n",
    "prediction = prediction[0][0]"
   ]
  },
  {
   "cell_type": "code",
   "execution_count": 10,
   "metadata": {},
   "outputs": [
    {
     "name": "stdout",
     "output_type": "stream",
     "text": [
      "Earnings Prediction for Proposed Product: $268436.862467378\n"
     ]
    }
   ],
   "source": [
    "# Transform the prediction back to the original scale\n",
    "prediction = prediction + 0.1159\n",
    "prediction = prediction / 0.0000036968\n",
    "\n",
    "print(f'Earnings Prediction for Proposed Product: ${prediction}')"
   ]
  },
  {
   "cell_type": "code",
   "execution_count": 11,
   "metadata": {},
   "outputs": [],
   "source": [
    "# Save the model for future use\n",
    "model.save(\"trained_model.h5\")"
   ]
  },
  {
   "cell_type": "code",
   "execution_count": null,
   "metadata": {},
   "outputs": [],
   "source": []
  }
 ],
 "metadata": {
  "kernelspec": {
   "display_name": "Python 3.10.4 ('Deep_Learning')",
   "language": "python",
   "name": "python3"
  },
  "language_info": {
   "codemirror_mode": {
    "name": "ipython",
    "version": 3
   },
   "file_extension": ".py",
   "mimetype": "text/x-python",
   "name": "python",
   "nbconvert_exporter": "python",
   "pygments_lexer": "ipython3",
   "version": "3.10.4"
  },
  "orig_nbformat": 4,
  "vscode": {
   "interpreter": {
    "hash": "096db544af28c78b77f99f5b558907d77c58cb7acc42aa3ed5e25e2771f11f9b"
   }
  }
 },
 "nbformat": 4,
 "nbformat_minor": 2
}
